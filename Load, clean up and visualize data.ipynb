{
 "cells": [
  {
   "cell_type": "code",
   "execution_count": 1,
   "metadata": {},
   "outputs": [],
   "source": [
    "# To automatically reload\n",
    "%reload_ext autoreload\n",
    "%autoreload 2"
   ]
  },
  {
   "cell_type": "code",
   "execution_count": 18,
   "metadata": {},
   "outputs": [],
   "source": [
    "# import required libraries\n",
    "import pandas as pd\n",
    "import cv2\n",
    "import matplotlib.pyplot as plt\n",
    "import matplotlib.image as img\n",
    "import os\n",
    "import numpy as np\n"
   ]
  },
  {
   "cell_type": "code",
   "execution_count": 19,
   "metadata": {
    "tags": []
   },
   "outputs": [
    {
     "output_type": "stream",
     "name": "stdout",
     "text": "lip_train_set.csv  README.md\t   train_set\t val_set\nlip_val_set.csv    train_data.ftr  val_data.ftr  vis_annotation.py\n"
    }
   ],
   "source": [
    "!ls dataset/"
   ]
  },
  {
   "cell_type": "code",
   "execution_count": 5,
   "metadata": {},
   "outputs": [],
   "source": [
    "# csv file line format:\n",
    "# ImageID_PersonId.jpg,x1,y1,v1,x2,y2,v2,...x16,y16,v16\n",
    "# Note: x,y, is the annotation label in (column, row),\n",
    "#       v stands for visuable\n",
    "        \n",
    "# Joint order:\n",
    "#     1,R_Ankle\n",
    "#     2,R_Knee\n",
    "#     3,R_Hip\n",
    "#     4,L_Hip\n",
    "#     5,L_Knee\n",
    "#     6,L_Ankle\n",
    "#     7,B_Pelvis\n",
    "#     8,B_Spine\n",
    "#     9,B_Neck\n",
    "#     10,B_Head\n",
    "#     11,R_Wrist\n",
    "#     12,R_Elbow\n",
    "#     13,R_Shoulder\n",
    "#     14,L_Shoulder\n",
    "#     15,L_Elbow\n",
    "#     16,L_Wrist\n",
    "col_names = ['ImageID_PersonId', 'R_Ankle_x', 'R_Ankle_y', 'R_Ankle_v',\n",
    "            'R_Knee_x', 'R_Knee_y', 'R_Knee_v',\n",
    "            'R_Hip_x', 'R_Hip_y', 'R_Hip_v',\n",
    "            'L_Hip_x', 'L_Hip_y', 'L_Hip_v',\n",
    "            'L_Knee_x', 'L_Knee_y', 'L_Knee_v',\n",
    "            'L_Ankle_x', 'L_Ankle_y', 'L_Ankle_v',\n",
    "            'B_Pelvis_x', 'B_Pelvis_y', 'B_Pelvis_v',\n",
    "            'B_Spine_x', 'B_Spine_y', 'B_Spine_v',\n",
    "            'B_Neck_x', 'B_Neck_y', 'B_Neck_v',\n",
    "            'B_Head_x', 'B_Head_y', 'B_Head_v',\n",
    "            'R_Wrist_x', 'R_Wrist_y', 'R_Wrist_v',\n",
    "            'R_Elbow_x', 'R_Elbow_y', 'R_Elbow_v',\n",
    "            'R_Shoulder_x', 'R_Shoulder_y', 'R_Shoulder_v',\n",
    "            'L_Shoulder_x', 'L_Shoulder_y', 'L_Shoulder_v',\n",
    "            'L_Elbow_x', 'L_Elbow_y', 'L_Elbow_v',\n",
    "            'L_Wrist_x', 'L_Wrist_y', 'L_Wrist_v']"
   ]
  },
  {
   "cell_type": "code",
   "execution_count": 20,
   "metadata": {},
   "outputs": [
    {
     "output_type": "execute_result",
     "data": {
      "text/plain": "    ImageID_PersonId  R_Ankle_x  R_Ankle_y  R_Ankle_v  R_Knee_x  R_Knee_y  \\\n0  100034_483681.jpg      153.0      351.0        0.0     122.0     284.0   \n1   10005_205677.jpg        NaN        NaN        NaN       NaN       NaN   \n2  100142_449784.jpg       29.0      468.0        0.0      65.0     384.0   \n3  10014_1211482.jpg       54.0      242.0        0.0      29.0     193.0   \n4   10024_490664.jpg       47.0      243.0        0.0      47.0     185.0   \n\n   R_Knee_v  R_Hip_x  R_Hip_y  R_Hip_v  ...  R_Shoulder_v  L_Shoulder_x  \\\n0       0.0      NaN      NaN      NaN  ...           1.0          93.0   \n1       NaN      NaN      NaN      NaN  ...           0.0         112.0   \n2       0.0     72.0    267.0      0.0  ...           0.0         138.0   \n3       0.0     13.0    142.0      0.0  ...           0.0          82.0   \n4       0.0     34.0    125.0      0.0  ...           0.0          30.0   \n\n   L_Shoulder_y  L_Shoulder_v  L_Elbow_x  L_Elbow_y  L_Elbow_v  L_Wrist_x  \\\n0          98.0           0.0      121.0      157.0        0.0       81.0   \n1          93.0           0.0      127.0      169.0        0.0      105.0   \n2         100.0           0.0      160.0      149.0        1.0      168.0   \n3          61.0           0.0       92.0      103.0        0.0       83.0   \n4          57.0           0.0       10.0       99.0        0.0       10.0   \n\n   L_Wrist_y  L_Wrist_v  \n0      208.0        0.0  \n1      238.0        0.0  \n2      191.0        0.0  \n3      124.0        0.0  \n4      111.0        0.0  \n\n[5 rows x 49 columns]",
      "text/html": "<div>\n<style scoped>\n    .dataframe tbody tr th:only-of-type {\n        vertical-align: middle;\n    }\n\n    .dataframe tbody tr th {\n        vertical-align: top;\n    }\n\n    .dataframe thead th {\n        text-align: right;\n    }\n</style>\n<table border=\"1\" class=\"dataframe\">\n  <thead>\n    <tr style=\"text-align: right;\">\n      <th></th>\n      <th>ImageID_PersonId</th>\n      <th>R_Ankle_x</th>\n      <th>R_Ankle_y</th>\n      <th>R_Ankle_v</th>\n      <th>R_Knee_x</th>\n      <th>R_Knee_y</th>\n      <th>R_Knee_v</th>\n      <th>R_Hip_x</th>\n      <th>R_Hip_y</th>\n      <th>R_Hip_v</th>\n      <th>...</th>\n      <th>R_Shoulder_v</th>\n      <th>L_Shoulder_x</th>\n      <th>L_Shoulder_y</th>\n      <th>L_Shoulder_v</th>\n      <th>L_Elbow_x</th>\n      <th>L_Elbow_y</th>\n      <th>L_Elbow_v</th>\n      <th>L_Wrist_x</th>\n      <th>L_Wrist_y</th>\n      <th>L_Wrist_v</th>\n    </tr>\n  </thead>\n  <tbody>\n    <tr>\n      <td>0</td>\n      <td>100034_483681.jpg</td>\n      <td>153.0</td>\n      <td>351.0</td>\n      <td>0.0</td>\n      <td>122.0</td>\n      <td>284.0</td>\n      <td>0.0</td>\n      <td>NaN</td>\n      <td>NaN</td>\n      <td>NaN</td>\n      <td>...</td>\n      <td>1.0</td>\n      <td>93.0</td>\n      <td>98.0</td>\n      <td>0.0</td>\n      <td>121.0</td>\n      <td>157.0</td>\n      <td>0.0</td>\n      <td>81.0</td>\n      <td>208.0</td>\n      <td>0.0</td>\n    </tr>\n    <tr>\n      <td>1</td>\n      <td>10005_205677.jpg</td>\n      <td>NaN</td>\n      <td>NaN</td>\n      <td>NaN</td>\n      <td>NaN</td>\n      <td>NaN</td>\n      <td>NaN</td>\n      <td>NaN</td>\n      <td>NaN</td>\n      <td>NaN</td>\n      <td>...</td>\n      <td>0.0</td>\n      <td>112.0</td>\n      <td>93.0</td>\n      <td>0.0</td>\n      <td>127.0</td>\n      <td>169.0</td>\n      <td>0.0</td>\n      <td>105.0</td>\n      <td>238.0</td>\n      <td>0.0</td>\n    </tr>\n    <tr>\n      <td>2</td>\n      <td>100142_449784.jpg</td>\n      <td>29.0</td>\n      <td>468.0</td>\n      <td>0.0</td>\n      <td>65.0</td>\n      <td>384.0</td>\n      <td>0.0</td>\n      <td>72.0</td>\n      <td>267.0</td>\n      <td>0.0</td>\n      <td>...</td>\n      <td>0.0</td>\n      <td>138.0</td>\n      <td>100.0</td>\n      <td>0.0</td>\n      <td>160.0</td>\n      <td>149.0</td>\n      <td>1.0</td>\n      <td>168.0</td>\n      <td>191.0</td>\n      <td>0.0</td>\n    </tr>\n    <tr>\n      <td>3</td>\n      <td>10014_1211482.jpg</td>\n      <td>54.0</td>\n      <td>242.0</td>\n      <td>0.0</td>\n      <td>29.0</td>\n      <td>193.0</td>\n      <td>0.0</td>\n      <td>13.0</td>\n      <td>142.0</td>\n      <td>0.0</td>\n      <td>...</td>\n      <td>0.0</td>\n      <td>82.0</td>\n      <td>61.0</td>\n      <td>0.0</td>\n      <td>92.0</td>\n      <td>103.0</td>\n      <td>0.0</td>\n      <td>83.0</td>\n      <td>124.0</td>\n      <td>0.0</td>\n    </tr>\n    <tr>\n      <td>4</td>\n      <td>10024_490664.jpg</td>\n      <td>47.0</td>\n      <td>243.0</td>\n      <td>0.0</td>\n      <td>47.0</td>\n      <td>185.0</td>\n      <td>0.0</td>\n      <td>34.0</td>\n      <td>125.0</td>\n      <td>0.0</td>\n      <td>...</td>\n      <td>0.0</td>\n      <td>30.0</td>\n      <td>57.0</td>\n      <td>0.0</td>\n      <td>10.0</td>\n      <td>99.0</td>\n      <td>0.0</td>\n      <td>10.0</td>\n      <td>111.0</td>\n      <td>0.0</td>\n    </tr>\n  </tbody>\n</table>\n<p>5 rows × 49 columns</p>\n</div>"
     },
     "metadata": {},
     "execution_count": 20
    }
   ],
   "source": [
    "# read csv containing image name and corresponding keypoints\n",
    "df = pd.read_csv('dataset/lip_val_set.csv', names=col_names)\n",
    "df.head()"
   ]
  },
  {
   "cell_type": "markdown",
   "metadata": {},
   "source": [
    "## Data clean up"
   ]
  },
  {
   "cell_type": "code",
   "execution_count": 21,
   "metadata": {},
   "outputs": [],
   "source": [
    "def replaceNAN(df, idx, val):\n",
    "    \"\"\" replace the NaN entries by val\"\"\"\n",
    "    if np.isnan(df.iloc[idx]):\n",
    "        df.iloc[idx - 1] = val\n",
    "        df.iloc[idx - 2] = val\n",
    "        \n",
    "    return df"
   ]
  },
  {
   "cell_type": "code",
   "execution_count": 22,
   "metadata": {},
   "outputs": [],
   "source": [
    "# change all nan keypoint values to -1 \n",
    "for i in range(3, df.shape[1], 3):\n",
    "    df = df.apply(replaceNAN, axis=1, idx=i, val=-1)"
   ]
  },
  {
   "cell_type": "code",
   "execution_count": 23,
   "metadata": {},
   "outputs": [
    {
     "output_type": "execute_result",
     "data": {
      "text/plain": "    ImageID_PersonId  R_Ankle_x  R_Ankle_y  R_Ankle_v  R_Knee_x  R_Knee_y  \\\n0  100034_483681.jpg      153.0      351.0        0.0     122.0     284.0   \n1   10005_205677.jpg       -1.0       -1.0        NaN      -1.0      -1.0   \n2  100142_449784.jpg       29.0      468.0        0.0      65.0     384.0   \n3  10014_1211482.jpg       54.0      242.0        0.0      29.0     193.0   \n4   10024_490664.jpg       47.0      243.0        0.0      47.0     185.0   \n\n   R_Knee_v  R_Hip_x  R_Hip_y  R_Hip_v  ...  R_Shoulder_v  L_Shoulder_x  \\\n0       0.0     -1.0     -1.0      NaN  ...           1.0          93.0   \n1       NaN     -1.0     -1.0      NaN  ...           0.0         112.0   \n2       0.0     72.0    267.0      0.0  ...           0.0         138.0   \n3       0.0     13.0    142.0      0.0  ...           0.0          82.0   \n4       0.0     34.0    125.0      0.0  ...           0.0          30.0   \n\n   L_Shoulder_y  L_Shoulder_v  L_Elbow_x  L_Elbow_y  L_Elbow_v  L_Wrist_x  \\\n0          98.0           0.0      121.0      157.0        0.0       81.0   \n1          93.0           0.0      127.0      169.0        0.0      105.0   \n2         100.0           0.0      160.0      149.0        1.0      168.0   \n3          61.0           0.0       92.0      103.0        0.0       83.0   \n4          57.0           0.0       10.0       99.0        0.0       10.0   \n\n   L_Wrist_y  L_Wrist_v  \n0      208.0        0.0  \n1      238.0        0.0  \n2      191.0        0.0  \n3      124.0        0.0  \n4      111.0        0.0  \n\n[5 rows x 49 columns]",
      "text/html": "<div>\n<style scoped>\n    .dataframe tbody tr th:only-of-type {\n        vertical-align: middle;\n    }\n\n    .dataframe tbody tr th {\n        vertical-align: top;\n    }\n\n    .dataframe thead th {\n        text-align: right;\n    }\n</style>\n<table border=\"1\" class=\"dataframe\">\n  <thead>\n    <tr style=\"text-align: right;\">\n      <th></th>\n      <th>ImageID_PersonId</th>\n      <th>R_Ankle_x</th>\n      <th>R_Ankle_y</th>\n      <th>R_Ankle_v</th>\n      <th>R_Knee_x</th>\n      <th>R_Knee_y</th>\n      <th>R_Knee_v</th>\n      <th>R_Hip_x</th>\n      <th>R_Hip_y</th>\n      <th>R_Hip_v</th>\n      <th>...</th>\n      <th>R_Shoulder_v</th>\n      <th>L_Shoulder_x</th>\n      <th>L_Shoulder_y</th>\n      <th>L_Shoulder_v</th>\n      <th>L_Elbow_x</th>\n      <th>L_Elbow_y</th>\n      <th>L_Elbow_v</th>\n      <th>L_Wrist_x</th>\n      <th>L_Wrist_y</th>\n      <th>L_Wrist_v</th>\n    </tr>\n  </thead>\n  <tbody>\n    <tr>\n      <td>0</td>\n      <td>100034_483681.jpg</td>\n      <td>153.0</td>\n      <td>351.0</td>\n      <td>0.0</td>\n      <td>122.0</td>\n      <td>284.0</td>\n      <td>0.0</td>\n      <td>-1.0</td>\n      <td>-1.0</td>\n      <td>NaN</td>\n      <td>...</td>\n      <td>1.0</td>\n      <td>93.0</td>\n      <td>98.0</td>\n      <td>0.0</td>\n      <td>121.0</td>\n      <td>157.0</td>\n      <td>0.0</td>\n      <td>81.0</td>\n      <td>208.0</td>\n      <td>0.0</td>\n    </tr>\n    <tr>\n      <td>1</td>\n      <td>10005_205677.jpg</td>\n      <td>-1.0</td>\n      <td>-1.0</td>\n      <td>NaN</td>\n      <td>-1.0</td>\n      <td>-1.0</td>\n      <td>NaN</td>\n      <td>-1.0</td>\n      <td>-1.0</td>\n      <td>NaN</td>\n      <td>...</td>\n      <td>0.0</td>\n      <td>112.0</td>\n      <td>93.0</td>\n      <td>0.0</td>\n      <td>127.0</td>\n      <td>169.0</td>\n      <td>0.0</td>\n      <td>105.0</td>\n      <td>238.0</td>\n      <td>0.0</td>\n    </tr>\n    <tr>\n      <td>2</td>\n      <td>100142_449784.jpg</td>\n      <td>29.0</td>\n      <td>468.0</td>\n      <td>0.0</td>\n      <td>65.0</td>\n      <td>384.0</td>\n      <td>0.0</td>\n      <td>72.0</td>\n      <td>267.0</td>\n      <td>0.0</td>\n      <td>...</td>\n      <td>0.0</td>\n      <td>138.0</td>\n      <td>100.0</td>\n      <td>0.0</td>\n      <td>160.0</td>\n      <td>149.0</td>\n      <td>1.0</td>\n      <td>168.0</td>\n      <td>191.0</td>\n      <td>0.0</td>\n    </tr>\n    <tr>\n      <td>3</td>\n      <td>10014_1211482.jpg</td>\n      <td>54.0</td>\n      <td>242.0</td>\n      <td>0.0</td>\n      <td>29.0</td>\n      <td>193.0</td>\n      <td>0.0</td>\n      <td>13.0</td>\n      <td>142.0</td>\n      <td>0.0</td>\n      <td>...</td>\n      <td>0.0</td>\n      <td>82.0</td>\n      <td>61.0</td>\n      <td>0.0</td>\n      <td>92.0</td>\n      <td>103.0</td>\n      <td>0.0</td>\n      <td>83.0</td>\n      <td>124.0</td>\n      <td>0.0</td>\n    </tr>\n    <tr>\n      <td>4</td>\n      <td>10024_490664.jpg</td>\n      <td>47.0</td>\n      <td>243.0</td>\n      <td>0.0</td>\n      <td>47.0</td>\n      <td>185.0</td>\n      <td>0.0</td>\n      <td>34.0</td>\n      <td>125.0</td>\n      <td>0.0</td>\n      <td>...</td>\n      <td>0.0</td>\n      <td>30.0</td>\n      <td>57.0</td>\n      <td>0.0</td>\n      <td>10.0</td>\n      <td>99.0</td>\n      <td>0.0</td>\n      <td>10.0</td>\n      <td>111.0</td>\n      <td>0.0</td>\n    </tr>\n  </tbody>\n</table>\n<p>5 rows × 49 columns</p>\n</div>"
     },
     "metadata": {},
     "execution_count": 23
    }
   ],
   "source": [
    "df.head()"
   ]
  },
  {
   "cell_type": "code",
   "execution_count": 24,
   "metadata": {},
   "outputs": [
    {
     "output_type": "execute_result",
     "data": {
      "text/plain": "    ImageID_PersonId  R_Ankle_x  R_Ankle_y  R_Knee_x  R_Knee_y  R_Hip_x  \\\n0  100034_483681.jpg      153.0      351.0     122.0     284.0     -1.0   \n1   10005_205677.jpg       -1.0       -1.0      -1.0      -1.0     -1.0   \n2  100142_449784.jpg       29.0      468.0      65.0     384.0     72.0   \n3  10014_1211482.jpg       54.0      242.0      29.0     193.0     13.0   \n4   10024_490664.jpg       47.0      243.0      47.0     185.0     34.0   \n\n   R_Hip_y  L_Hip_x  L_Hip_y  L_Knee_x  ...  R_Elbow_x  R_Elbow_y  \\\n0     -1.0    152.0    198.0      79.0  ...       96.0      162.0   \n1     -1.0     -1.0     -1.0      -1.0  ...       15.0      164.0   \n2    267.0    146.0    274.0     138.0  ...       28.0      196.0   \n3    142.0     61.0    134.0      61.0  ...       -1.0       -1.0   \n4    125.0     80.0    121.0      73.0  ...      109.0       83.0   \n\n   R_Shoulder_x  R_Shoulder_y  L_Shoulder_x  L_Shoulder_y  L_Elbow_x  \\\n0          74.0          95.0          93.0          98.0      121.0   \n1          20.0         102.0         112.0          93.0      127.0   \n2          33.0         111.0         138.0         100.0      160.0   \n3           2.0          53.0          82.0          61.0       92.0   \n4          87.0          53.0          30.0          57.0       10.0   \n\n   L_Elbow_y  L_Wrist_x  L_Wrist_y  \n0      157.0       81.0      208.0  \n1      169.0      105.0      238.0  \n2      149.0      168.0      191.0  \n3      103.0       83.0      124.0  \n4       99.0       10.0      111.0  \n\n[5 rows x 33 columns]",
      "text/html": "<div>\n<style scoped>\n    .dataframe tbody tr th:only-of-type {\n        vertical-align: middle;\n    }\n\n    .dataframe tbody tr th {\n        vertical-align: top;\n    }\n\n    .dataframe thead th {\n        text-align: right;\n    }\n</style>\n<table border=\"1\" class=\"dataframe\">\n  <thead>\n    <tr style=\"text-align: right;\">\n      <th></th>\n      <th>ImageID_PersonId</th>\n      <th>R_Ankle_x</th>\n      <th>R_Ankle_y</th>\n      <th>R_Knee_x</th>\n      <th>R_Knee_y</th>\n      <th>R_Hip_x</th>\n      <th>R_Hip_y</th>\n      <th>L_Hip_x</th>\n      <th>L_Hip_y</th>\n      <th>L_Knee_x</th>\n      <th>...</th>\n      <th>R_Elbow_x</th>\n      <th>R_Elbow_y</th>\n      <th>R_Shoulder_x</th>\n      <th>R_Shoulder_y</th>\n      <th>L_Shoulder_x</th>\n      <th>L_Shoulder_y</th>\n      <th>L_Elbow_x</th>\n      <th>L_Elbow_y</th>\n      <th>L_Wrist_x</th>\n      <th>L_Wrist_y</th>\n    </tr>\n  </thead>\n  <tbody>\n    <tr>\n      <td>0</td>\n      <td>100034_483681.jpg</td>\n      <td>153.0</td>\n      <td>351.0</td>\n      <td>122.0</td>\n      <td>284.0</td>\n      <td>-1.0</td>\n      <td>-1.0</td>\n      <td>152.0</td>\n      <td>198.0</td>\n      <td>79.0</td>\n      <td>...</td>\n      <td>96.0</td>\n      <td>162.0</td>\n      <td>74.0</td>\n      <td>95.0</td>\n      <td>93.0</td>\n      <td>98.0</td>\n      <td>121.0</td>\n      <td>157.0</td>\n      <td>81.0</td>\n      <td>208.0</td>\n    </tr>\n    <tr>\n      <td>1</td>\n      <td>10005_205677.jpg</td>\n      <td>-1.0</td>\n      <td>-1.0</td>\n      <td>-1.0</td>\n      <td>-1.0</td>\n      <td>-1.0</td>\n      <td>-1.0</td>\n      <td>-1.0</td>\n      <td>-1.0</td>\n      <td>-1.0</td>\n      <td>...</td>\n      <td>15.0</td>\n      <td>164.0</td>\n      <td>20.0</td>\n      <td>102.0</td>\n      <td>112.0</td>\n      <td>93.0</td>\n      <td>127.0</td>\n      <td>169.0</td>\n      <td>105.0</td>\n      <td>238.0</td>\n    </tr>\n    <tr>\n      <td>2</td>\n      <td>100142_449784.jpg</td>\n      <td>29.0</td>\n      <td>468.0</td>\n      <td>65.0</td>\n      <td>384.0</td>\n      <td>72.0</td>\n      <td>267.0</td>\n      <td>146.0</td>\n      <td>274.0</td>\n      <td>138.0</td>\n      <td>...</td>\n      <td>28.0</td>\n      <td>196.0</td>\n      <td>33.0</td>\n      <td>111.0</td>\n      <td>138.0</td>\n      <td>100.0</td>\n      <td>160.0</td>\n      <td>149.0</td>\n      <td>168.0</td>\n      <td>191.0</td>\n    </tr>\n    <tr>\n      <td>3</td>\n      <td>10014_1211482.jpg</td>\n      <td>54.0</td>\n      <td>242.0</td>\n      <td>29.0</td>\n      <td>193.0</td>\n      <td>13.0</td>\n      <td>142.0</td>\n      <td>61.0</td>\n      <td>134.0</td>\n      <td>61.0</td>\n      <td>...</td>\n      <td>-1.0</td>\n      <td>-1.0</td>\n      <td>2.0</td>\n      <td>53.0</td>\n      <td>82.0</td>\n      <td>61.0</td>\n      <td>92.0</td>\n      <td>103.0</td>\n      <td>83.0</td>\n      <td>124.0</td>\n    </tr>\n    <tr>\n      <td>4</td>\n      <td>10024_490664.jpg</td>\n      <td>47.0</td>\n      <td>243.0</td>\n      <td>47.0</td>\n      <td>185.0</td>\n      <td>34.0</td>\n      <td>125.0</td>\n      <td>80.0</td>\n      <td>121.0</td>\n      <td>73.0</td>\n      <td>...</td>\n      <td>109.0</td>\n      <td>83.0</td>\n      <td>87.0</td>\n      <td>53.0</td>\n      <td>30.0</td>\n      <td>57.0</td>\n      <td>10.0</td>\n      <td>99.0</td>\n      <td>10.0</td>\n      <td>111.0</td>\n    </tr>\n  </tbody>\n</table>\n<p>5 rows × 33 columns</p>\n</div>"
     },
     "metadata": {},
     "execution_count": 24
    }
   ],
   "source": [
    "# remove all columns otherthan keypoints (names ending with 'v')\n",
    "df.drop(df.columns[range(3, df.shape[1], 3)], axis=1, inplace=True)\n",
    "df.head()"
   ]
  },
  {
   "cell_type": "code",
   "execution_count": 25,
   "metadata": {},
   "outputs": [],
   "source": [
    "# saving the dataframe in feather format (because it is fast)\n",
    "df.to_feather('dataset/val_data.ftr')"
   ]
  },
  {
   "cell_type": "markdown",
   "metadata": {},
   "source": [
    "## Visualization"
   ]
  },
  {
   "cell_type": "code",
   "execution_count": 14,
   "metadata": {},
   "outputs": [
    {
     "output_type": "execute_result",
     "data": {
      "text/plain": "    ImageID_PersonId  R_Ankle_x  R_Ankle_y  R_Knee_x  R_Knee_y  R_Hip_x  \\\n0  100034_483681.jpg      153.0      351.0     122.0     284.0     -1.0   \n1   10005_205677.jpg       -1.0       -1.0      -1.0      -1.0     -1.0   \n2  100142_449784.jpg       29.0      468.0      65.0     384.0     72.0   \n3  10014_1211482.jpg       54.0      242.0      29.0     193.0     13.0   \n4   10024_490664.jpg       47.0      243.0      47.0     185.0     34.0   \n\n   R_Hip_y  L_Hip_x  L_Hip_y  L_Knee_x  ...  R_Elbow_x  R_Elbow_y  \\\n0     -1.0    152.0    198.0      79.0  ...       96.0      162.0   \n1     -1.0     -1.0     -1.0      -1.0  ...       15.0      164.0   \n2    267.0    146.0    274.0     138.0  ...       28.0      196.0   \n3    142.0     61.0    134.0      61.0  ...       -1.0       -1.0   \n4    125.0     80.0    121.0      73.0  ...      109.0       83.0   \n\n   R_Shoulder_x  R_Shoulder_y  L_Shoulder_x  L_Shoulder_y  L_Elbow_x  \\\n0          74.0          95.0          93.0          98.0      121.0   \n1          20.0         102.0         112.0          93.0      127.0   \n2          33.0         111.0         138.0         100.0      160.0   \n3           2.0          53.0          82.0          61.0       92.0   \n4          87.0          53.0          30.0          57.0       10.0   \n\n   L_Elbow_y  L_Wrist_x  L_Wrist_y  \n0      157.0       81.0      208.0  \n1      169.0      105.0      238.0  \n2      149.0      168.0      191.0  \n3      103.0       83.0      124.0  \n4       99.0       10.0      111.0  \n\n[5 rows x 33 columns]",
      "text/html": "<div>\n<style scoped>\n    .dataframe tbody tr th:only-of-type {\n        vertical-align: middle;\n    }\n\n    .dataframe tbody tr th {\n        vertical-align: top;\n    }\n\n    .dataframe thead th {\n        text-align: right;\n    }\n</style>\n<table border=\"1\" class=\"dataframe\">\n  <thead>\n    <tr style=\"text-align: right;\">\n      <th></th>\n      <th>ImageID_PersonId</th>\n      <th>R_Ankle_x</th>\n      <th>R_Ankle_y</th>\n      <th>R_Knee_x</th>\n      <th>R_Knee_y</th>\n      <th>R_Hip_x</th>\n      <th>R_Hip_y</th>\n      <th>L_Hip_x</th>\n      <th>L_Hip_y</th>\n      <th>L_Knee_x</th>\n      <th>...</th>\n      <th>R_Elbow_x</th>\n      <th>R_Elbow_y</th>\n      <th>R_Shoulder_x</th>\n      <th>R_Shoulder_y</th>\n      <th>L_Shoulder_x</th>\n      <th>L_Shoulder_y</th>\n      <th>L_Elbow_x</th>\n      <th>L_Elbow_y</th>\n      <th>L_Wrist_x</th>\n      <th>L_Wrist_y</th>\n    </tr>\n  </thead>\n  <tbody>\n    <tr>\n      <td>0</td>\n      <td>100034_483681.jpg</td>\n      <td>153.0</td>\n      <td>351.0</td>\n      <td>122.0</td>\n      <td>284.0</td>\n      <td>-1.0</td>\n      <td>-1.0</td>\n      <td>152.0</td>\n      <td>198.0</td>\n      <td>79.0</td>\n      <td>...</td>\n      <td>96.0</td>\n      <td>162.0</td>\n      <td>74.0</td>\n      <td>95.0</td>\n      <td>93.0</td>\n      <td>98.0</td>\n      <td>121.0</td>\n      <td>157.0</td>\n      <td>81.0</td>\n      <td>208.0</td>\n    </tr>\n    <tr>\n      <td>1</td>\n      <td>10005_205677.jpg</td>\n      <td>-1.0</td>\n      <td>-1.0</td>\n      <td>-1.0</td>\n      <td>-1.0</td>\n      <td>-1.0</td>\n      <td>-1.0</td>\n      <td>-1.0</td>\n      <td>-1.0</td>\n      <td>-1.0</td>\n      <td>...</td>\n      <td>15.0</td>\n      <td>164.0</td>\n      <td>20.0</td>\n      <td>102.0</td>\n      <td>112.0</td>\n      <td>93.0</td>\n      <td>127.0</td>\n      <td>169.0</td>\n      <td>105.0</td>\n      <td>238.0</td>\n    </tr>\n    <tr>\n      <td>2</td>\n      <td>100142_449784.jpg</td>\n      <td>29.0</td>\n      <td>468.0</td>\n      <td>65.0</td>\n      <td>384.0</td>\n      <td>72.0</td>\n      <td>267.0</td>\n      <td>146.0</td>\n      <td>274.0</td>\n      <td>138.0</td>\n      <td>...</td>\n      <td>28.0</td>\n      <td>196.0</td>\n      <td>33.0</td>\n      <td>111.0</td>\n      <td>138.0</td>\n      <td>100.0</td>\n      <td>160.0</td>\n      <td>149.0</td>\n      <td>168.0</td>\n      <td>191.0</td>\n    </tr>\n    <tr>\n      <td>3</td>\n      <td>10014_1211482.jpg</td>\n      <td>54.0</td>\n      <td>242.0</td>\n      <td>29.0</td>\n      <td>193.0</td>\n      <td>13.0</td>\n      <td>142.0</td>\n      <td>61.0</td>\n      <td>134.0</td>\n      <td>61.0</td>\n      <td>...</td>\n      <td>-1.0</td>\n      <td>-1.0</td>\n      <td>2.0</td>\n      <td>53.0</td>\n      <td>82.0</td>\n      <td>61.0</td>\n      <td>92.0</td>\n      <td>103.0</td>\n      <td>83.0</td>\n      <td>124.0</td>\n    </tr>\n    <tr>\n      <td>4</td>\n      <td>10024_490664.jpg</td>\n      <td>47.0</td>\n      <td>243.0</td>\n      <td>47.0</td>\n      <td>185.0</td>\n      <td>34.0</td>\n      <td>125.0</td>\n      <td>80.0</td>\n      <td>121.0</td>\n      <td>73.0</td>\n      <td>...</td>\n      <td>109.0</td>\n      <td>83.0</td>\n      <td>87.0</td>\n      <td>53.0</td>\n      <td>30.0</td>\n      <td>57.0</td>\n      <td>10.0</td>\n      <td>99.0</td>\n      <td>10.0</td>\n      <td>111.0</td>\n    </tr>\n  </tbody>\n</table>\n<p>5 rows × 33 columns</p>\n</div>"
     },
     "metadata": {},
     "execution_count": 14
    }
   ],
   "source": [
    "val_df = pd.read_feather('dataset/val_data.ftr')\n",
    "val_df.head()"
   ]
  },
  {
   "cell_type": "code",
   "execution_count": 15,
   "metadata": {},
   "outputs": [
    {
     "output_type": "execute_result",
     "data": {
      "text/plain": "array(['10005_205677.jpg', -1.0, -1.0, -1.0, -1.0, -1.0, -1.0, -1.0, -1.0,\n       -1.0, -1.0, -1.0, -1.0, 63.0, 236.0, 57.0, 128.0, 60.0, 87.0, 13.0,\n       36.0, 18.0, 214.0, 15.0, 164.0, 20.0, 102.0, 112.0, 93.0, 127.0,\n       169.0, 105.0, 238.0], dtype=object)"
     },
     "metadata": {},
     "execution_count": 15
    }
   ],
   "source": [
    "val_df.iloc[1].values"
   ]
  },
  {
   "cell_type": "code",
   "execution_count": 16,
   "metadata": {},
   "outputs": [],
   "source": [
    "def plot_joint(rec, img_folder):\n",
    "    ''' Drawing joints and bones on images '''\n",
    "    img_name = os.path.join(img_folder, rec[0])\n",
    "    print('Image at: ' + img_name)\n",
    "\n",
    "    img = cv2.imread(img_name)\n",
    "    bombs = [[0,1],[1,2]\n",
    "            ,[3,4],[4,5]\n",
    "            ,[6,7],[7,8],[8,9]\n",
    "            ,[10,11],[11,12]\n",
    "            ,[13,14],[14,15] ]\n",
    "    colors = [(255,0,0),(255,0,0),\n",
    "              (0,255,0),(0,255,0),\n",
    "              (0,0,255),(0,0,255),(0,0,255),\n",
    "              (128,128,0),(128,128,0),\n",
    "              (128,0,128),(128,0,128)]\n",
    "\n",
    "    for b_id in range(len(bombs)):\n",
    "        b = bombs[b_id]\n",
    "        color = colors[b_id]\n",
    "        x1 = rec[ b[0] * 2 + 1]\n",
    "        y1 = rec[ b[0] * 2 + 2]\n",
    "\n",
    "        x2 = rec[ b[1] * 2 + 1]\n",
    "        y2 = rec[ b[1] * 2 + 2]\n",
    "\n",
    "        if x1 > 0 and x2 > 0 and y1 > 0 and y2 > 0:\n",
    "            img = cv2.line(img, (int(x1),int(y1)), (int(x2),int(y2)), color, 4) \n",
    "        elif x1 > 0 and y1 > 0:\n",
    "            img = cv2.circle(img, (int(x1), int(y1)), 5, color, 4) \n",
    "        elif x2 > 0 and y2 > 0:\n",
    "            img = cv2.circle(img, (int(x2), int(y2)), 5, color, 4)\n",
    "    \n",
    "    cv2.imshow('Keypoints', img)\n",
    "    cv2.waitKey(0)\n",
    "        \n",
    "    cv2.destroyAllWindows()\n"
   ]
  },
  {
   "cell_type": "code",
   "execution_count": 17,
   "metadata": {
    "tags": []
   },
   "outputs": [
    {
     "output_type": "stream",
     "name": "stdout",
     "text": "Image at: dataset/val_set/10710_428800.jpg\n"
    }
   ],
   "source": [
    "plot_joint(val_df.iloc[100].values , 'dataset/val_set/')"
   ]
  },
  {
   "cell_type": "markdown",
   "metadata": {},
   "source": [
    "## Creating Pytorch Dataset"
   ]
  },
  {
   "cell_type": "code",
   "execution_count": 2,
   "metadata": {},
   "outputs": [],
   "source": [
    "from utils.LIPDataset import LIPDataset"
   ]
  },
  {
   "cell_type": "code",
   "execution_count": 3,
   "metadata": {},
   "outputs": [],
   "source": [
    "PIL_dataset = LIPDataset('train_data.ftr', 'dataset/train_set/')"
   ]
  },
  {
   "cell_type": "code",
   "execution_count": 4,
   "metadata": {},
   "outputs": [],
   "source": [
    "sample = PIL_dataset[1722]"
   ]
  },
  {
   "cell_type": "code",
   "execution_count": 5,
   "metadata": {},
   "outputs": [],
   "source": [
    "from utils.LIPDataset import plot_data"
   ]
  },
  {
   "cell_type": "code",
   "execution_count": 6,
   "metadata": {},
   "outputs": [],
   "source": [
    "plot_data(sample)"
   ]
  },
  {
   "cell_type": "markdown",
   "metadata": {},
   "source": [
    "## Apply transformations"
   ]
  },
  {
   "cell_type": "code",
   "execution_count": 6,
   "metadata": {},
   "outputs": [],
   "source": [
    "from utils.LIPDataset import Resize"
   ]
  },
  {
   "cell_type": "code",
   "execution_count": 8,
   "metadata": {},
   "outputs": [
    {
     "data": {
      "text/plain": [
       "((152, 248, 3),\n",
       " array([-1.0, -1.0, 94.0, 108.0, 238.0, 52.0, 167.0, 103.0, 62.0, 122.0,\n",
       "        -1.0, -1.0, 197.0, 81.0, 191.0, 6.0, -1.0, -1.0, -1.0, -1.0, 100.0,\n",
       "        57.0, 137.0, 29.0, -1.0, -1.0, -1.0, -1.0, 88.0, 41.0, 23.0, 73.0],\n",
       "       dtype=object))"
      ]
     },
     "execution_count": 8,
     "metadata": {},
     "output_type": "execute_result"
    }
   ],
   "source": [
    "sample['image'].shape, sample['keypoints']"
   ]
  },
  {
   "cell_type": "code",
   "execution_count": 9,
   "metadata": {},
   "outputs": [],
   "source": [
    "plot_data(sample)"
   ]
  },
  {
   "cell_type": "code",
   "execution_count": 10,
   "metadata": {},
   "outputs": [],
   "source": [
    "# initialize a resize transform\n",
    "resize = Resize((256, 256))"
   ]
  },
  {
   "cell_type": "code",
   "execution_count": 11,
   "metadata": {},
   "outputs": [],
   "source": [
    "# line by line profiling\n",
    "%load_ext line_profiler\n",
    "# lprun -f"
   ]
  },
  {
   "cell_type": "code",
   "execution_count": 12,
   "metadata": {},
   "outputs": [],
   "source": [
    "# performing tfm and examining the results\n",
    "tfm_sample = resize(sample)"
   ]
  },
  {
   "cell_type": "code",
   "execution_count": 13,
   "metadata": {},
   "outputs": [
    {
     "data": {
      "text/plain": [
       "((256, 256, 3),\n",
       " [-1.032258064516129,\n",
       "  -1.6842105263157894,\n",
       "  97.03225806451613,\n",
       "  181.89473684210526,\n",
       "  245.6774193548387,\n",
       "  87.57894736842104,\n",
       "  172.38709677419354,\n",
       "  173.4736842105263,\n",
       "  64.0,\n",
       "  205.4736842105263,\n",
       "  -1.032258064516129,\n",
       "  -1.6842105263157894,\n",
       "  203.3548387096774,\n",
       "  136.42105263157893,\n",
       "  197.16129032258064,\n",
       "  10.105263157894736,\n",
       "  -1.032258064516129,\n",
       "  -1.6842105263157894,\n",
       "  -1.032258064516129,\n",
       "  -1.6842105263157894,\n",
       "  103.2258064516129,\n",
       "  96.0,\n",
       "  141.41935483870967,\n",
       "  48.84210526315789,\n",
       "  -1.032258064516129,\n",
       "  -1.6842105263157894,\n",
       "  -1.032258064516129,\n",
       "  -1.6842105263157894,\n",
       "  90.83870967741936,\n",
       "  69.05263157894737,\n",
       "  23.741935483870968,\n",
       "  122.94736842105263])"
      ]
     },
     "execution_count": 13,
     "metadata": {},
     "output_type": "execute_result"
    }
   ],
   "source": [
    "tfm_sample['image'].shape, tfm_sample['keypoints']"
   ]
  },
  {
   "cell_type": "code",
   "execution_count": 19,
   "metadata": {},
   "outputs": [],
   "source": [
    "plot_data(tfm_sample)"
   ]
  },
  {
   "cell_type": "code",
   "execution_count": 16,
   "metadata": {},
   "outputs": [],
   "source": [
    "from utils.LIPDataset import RandomCrop"
   ]
  },
  {
   "cell_type": "code",
   "execution_count": 25,
   "metadata": {},
   "outputs": [],
   "source": [
    "# initialize RandomCrop\n",
    "random_crop = RandomCrop(224)"
   ]
  },
  {
   "cell_type": "code",
   "execution_count": 26,
   "metadata": {},
   "outputs": [],
   "source": [
    "tfm_sample = random_crop(sample)"
   ]
  },
  {
   "cell_type": "code",
   "execution_count": 27,
   "metadata": {},
   "outputs": [],
   "source": [
    "plot_data(tfm_sample)"
   ]
  },
  {
   "cell_type": "code",
   "execution_count": 38,
   "metadata": {},
   "outputs": [],
   "source": [
    "from utils.LIPDataset import ToTensor"
   ]
  },
  {
   "cell_type": "code",
   "execution_count": 39,
   "metadata": {},
   "outputs": [],
   "source": [
    "to_tensor = ToTensor()"
   ]
  },
  {
   "cell_type": "code",
   "execution_count": 40,
   "metadata": {},
   "outputs": [],
   "source": [
    "tfm_sample = to_tensor(sample)"
   ]
  },
  {
   "cell_type": "code",
   "execution_count": 44,
   "metadata": {},
   "outputs": [
    {
     "data": {
      "text/plain": [
       "(torch.Size([3, 372, 277]), torch.Size([32]))"
      ]
     },
     "execution_count": 44,
     "metadata": {},
     "output_type": "execute_result"
    }
   ],
   "source": [
    "tfm_sample['image'].size(), tfm_sample['keypoints'].size()"
   ]
  },
  {
   "cell_type": "code",
   "execution_count": 36,
   "metadata": {},
   "outputs": [],
   "source": [
    "from utils.LIPDataset import RandomHorizontalFlip"
   ]
  },
  {
   "cell_type": "code",
   "execution_count": 37,
   "metadata": {},
   "outputs": [],
   "source": [
    "rand_flip = RandomHorizontalFlip(.6)"
   ]
  },
  {
   "cell_type": "code",
   "execution_count": 42,
   "metadata": {},
   "outputs": [],
   "source": [
    "tfm_sample = rand_flip(sample)\n",
    "plot_data(tfm_sample)"
   ]
  },
  {
   "cell_type": "markdown",
   "metadata": {},
   "source": [
    "## Final test of combined transforms"
   ]
  },
  {
   "cell_type": "code",
   "execution_count": 2,
   "metadata": {},
   "outputs": [],
   "source": [
    "## defining a complete data transform\n",
    "from torchvision import transforms\n",
    "from utils.LIPDataset import Resize, RandomCrop, RandomHorizontalFlip, ToTensor"
   ]
  },
  {
   "cell_type": "code",
   "execution_count": 3,
   "metadata": {},
   "outputs": [],
   "source": [
    "data_transform = transforms.Compose([Resize(256),\n",
    "                                    RandomCrop(224),\n",
    "                                    RandomHorizontalFlip(0.7)])"
   ]
  },
  {
   "cell_type": "code",
   "execution_count": 6,
   "metadata": {},
   "outputs": [],
   "source": [
    "from utils.LIPDataset import LIPDataset, plot_data"
   ]
  },
  {
   "cell_type": "code",
   "execution_count": 5,
   "metadata": {},
   "outputs": [],
   "source": [
    "dataset = LIPDataset('train_data.ftr',\n",
    "                     'dataset/train_set/',\n",
    "                    transform=data_transform)"
   ]
  },
  {
   "cell_type": "code",
   "execution_count": 10,
   "metadata": {},
   "outputs": [],
   "source": [
    "plot_data(dataset[100])"
   ]
  }
 ],
 "metadata": {
  "kernelspec": {
   "display_name": "Python 3",
   "language": "python",
   "name": "python3"
  },
  "language_info": {
   "codemirror_mode": {
    "name": "ipython",
    "version": 3
   },
   "file_extension": ".py",
   "mimetype": "text/x-python",
   "name": "python",
   "nbconvert_exporter": "python",
   "pygments_lexer": "ipython3",
   "version": "3.6.8"
  }
 },
 "nbformat": 4,
 "nbformat_minor": 2
}