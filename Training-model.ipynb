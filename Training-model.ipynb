{
 "metadata": {
  "language_info": {
   "codemirror_mode": {
    "name": "ipython",
    "version": 3
   },
   "file_extension": ".py",
   "mimetype": "text/x-python",
   "name": "python",
   "nbconvert_exporter": "python",
   "pygments_lexer": "ipython3",
   "version": "3.6.8-final"
  },
  "orig_nbformat": 2,
  "kernelspec": {
   "name": "python_defaultSpec_1597550342456",
   "display_name": "Python 3.6.8 64-bit ('fastai': virtualenv)"
  }
 },
 "nbformat": 4,
 "nbformat_minor": 2,
 "cells": [
  {
   "cell_type": "code",
   "execution_count": 1,
   "metadata": {},
   "outputs": [],
   "source": [
    "%load_ext autoreload\n",
    "%autoreload 2"
   ]
  },
  {
   "cell_type": "markdown",
   "metadata": {},
   "source": [
    "# Read train and Validation data"
   ]
  },
  {
   "cell_type": "code",
   "execution_count": 2,
   "metadata": {
    "tags": []
   },
   "outputs": [],
   "source": [
    "# import resources for handling dataset\n",
    "from utils.LIPDataset import LIPDataset, RandomCrop, RandomHorizontalFlip, Resize, plot_data, ToTensor, Normalize\n",
    "from torchvision import transforms\n",
    "import torch\n",
    "\n",
    "\n"
   ]
  },
  {
   "cell_type": "code",
   "execution_count": 3,
   "metadata": {},
   "outputs": [],
   "source": [
    "# param to normalize image (expected by pre-trained pytorch model)\n",
    "mean = [0.485, 0.456, 0.406]\n",
    "std = [0.229, 0.224, 0.225]"
   ]
  },
  {
   "cell_type": "code",
   "execution_count": 4,
   "metadata": {
    "tags": []
   },
   "outputs": [],
   "source": [
    "# read dataset and provide augmentation\n",
    "# TRAIN DATA\n",
    "train_transform = transforms.Compose([\n",
    "                Resize((256, 256)),\n",
    "                RandomCrop((224, 224)),\n",
    "                RandomHorizontalFlip(),\n",
    "                ToTensor(),\n",
    "                Normalize(mean, std, False)\n",
    "            ])\n",
    "\n",
    "train_data = LIPDataset('dataset/train_data.ftr', 'dataset/train_set', train_transform)"
   ]
  },
  {
   "cell_type": "code",
   "execution_count": 5,
   "metadata": {},
   "outputs": [],
   "source": [
    "# resource to display from dataset\n",
    "from utils.LIPDataset import untransform_n_display"
   ]
  },
  {
   "cell_type": "code",
   "execution_count": 6,
   "metadata": {},
   "outputs": [],
   "source": [
    "# visualize a sample\n",
    "untransform_n_display(train_data, 5000 , mean, std)"
   ]
  },
  {
   "cell_type": "code",
   "execution_count": 7,
   "metadata": {},
   "outputs": [],
   "source": [
    "# VALIDATION DATA\n",
    "val_transform = transforms.Compose([\n",
    "                        Resize((224, 224)),\n",
    "                        ToTensor(),\n",
    "                        Normalize(mean, std)\n",
    "                        ])\n",
    "\n",
    "val_data = LIPDataset('dataset/val_data.ftr', 'dataset/val_set', val_transform)"
   ]
  },
  {
   "cell_type": "code",
   "execution_count": 8,
   "metadata": {},
   "outputs": [],
   "source": [
    "# visualize few sample\n",
    "untransform_n_display(val_data, 7006, mean, std)"
   ]
  },
  {
   "cell_type": "code",
   "execution_count": 9,
   "metadata": {},
   "outputs": [
    {
     "output_type": "execute_result",
     "data": {
      "text/plain": "(30462, 10000, torch.Size([3, 224, 224]), torch.Size([32]))"
     },
     "metadata": {},
     "execution_count": 9
    }
   ],
   "source": [
    "# length of both\n",
    "len(train_data), len(val_data), train_data[5]['image'].size(), train_data[6]['keypoints'].size()"
   ]
  },
  {
   "cell_type": "markdown",
   "metadata": {},
   "source": [
    "## Dataloader and batch size"
   ]
  },
  {
   "cell_type": "code",
   "execution_count": 10,
   "metadata": {},
   "outputs": [],
   "source": [
    "from torch.utils.data import DataLoader"
   ]
  },
  {
   "cell_type": "code",
   "execution_count": 11,
   "metadata": {},
   "outputs": [],
   "source": [
    "batch_size = 8\n",
    "\n",
    "train_loader = DataLoader(train_data, batch_size=batch_size, shuffle=True, num_workers=4)\n",
    "\n",
    "valid_loader = DataLoader(val_data, batch_size=batch_size, shuffle=True, num_workers=4)"
   ]
  },
  {
   "cell_type": "code",
   "execution_count": 12,
   "metadata": {},
   "outputs": [],
   "source": [
    "samples = next(iter(train_loader))"
   ]
  },
  {
   "cell_type": "code",
   "execution_count": 13,
   "metadata": {},
   "outputs": [
    {
     "output_type": "execute_result",
     "data": {
      "text/plain": "torch.Size([8, 32])"
     },
     "metadata": {},
     "execution_count": 13
    }
   ],
   "source": [
    "samples['keypoints'].size() # batches are formed"
   ]
  },
  {
   "cell_type": "markdown",
   "metadata": {},
   "source": [
    "# Load model. Define lose function and optimizer"
   ]
  },
  {
   "cell_type": "code",
   "execution_count": 14,
   "metadata": {
    "tags": []
   },
   "outputs": [],
   "source": [
    "from utils.TrainModel import initialize_model\n",
    "\n",
    "num_keypoints = 16\n",
    "model = initialize_model(2*num_keypoints) "
   ]
  },
  {
   "cell_type": "code",
   "execution_count": 15,
   "metadata": {},
   "outputs": [],
   "source": [
    "model;"
   ]
  },
  {
   "cell_type": "code",
   "execution_count": 16,
   "metadata": {},
   "outputs": [],
   "source": [
    "# define lose function \n",
    "from torch import nn\n",
    "criterion = nn.MSELoss()\n"
   ]
  },
  {
   "cell_type": "code",
   "execution_count": 17,
   "metadata": {},
   "outputs": [],
   "source": [
    "# define optimizer\n",
    "from torch import optim\n",
    "optimizer = optim.Adam(model.fc.parameters(), lr=0.0003)"
   ]
  },
  {
   "cell_type": "markdown",
   "metadata": {},
   "source": [
    "# Training and tracking loss (train + valid)"
   ]
  },
  {
   "cell_type": "code",
   "execution_count": 18,
   "metadata": {
    "tags": []
   },
   "outputs": [
    {
     "output_type": "stream",
     "name": "stdout",
     "text": "Epoch: 0, Batch: 0, Train Avg. Loss: 0.003933580925590114, Validation Avg. Loss:0.6651806684017182\nEpoch: 0, Batch: 190, Train Avg. Loss: 0.5143177583029396, Validation Avg. Loss:0.3309324253439903\nEpoch: 0, Batch: 380, Train Avg. Loss: 0.473219254769777, Validation Avg. Loss:0.3503163165330887\nEpoch: 0, Batch: 570, Train Avg. Loss: 0.4650612147230851, Validation Avg. Loss:0.29494481028318403\nEpoch: 0, Batch: 760, Train Avg. Loss: 0.4524740804182856, Validation Avg. Loss:0.28906147429943085\nEpoch: 0, Batch: 950, Train Avg. Loss: 0.44379548414757375, Validation Avg. Loss:0.3052421542406082\nEpoch: 0, Batch: 1140, Train Avg. Loss: 0.42003903906596335, Validation Avg. Loss:0.27297649672031404\nEpoch: 0, Batch: 1330, Train Avg. Loss: 0.42929982527306204, Validation Avg. Loss:0.3357675970673561\nEpoch: 0, Batch: 1520, Train Avg. Loss: 0.43405496776103974, Validation Avg. Loss:0.30268653337955476\nEpoch: 0, Batch: 1710, Train Avg. Loss: 0.4190199453579752, Validation Avg. Loss:0.2856024269223213\nEpoch: 0, Batch: 1900, Train Avg. Loss: 0.41609889174762527, Validation Avg. Loss:0.2906268486380577\nEpoch: 0, Batch: 2090, Train Avg. Loss: 0.4111623466014862, Validation Avg. Loss:0.2813332503199577\nEpoch: 0, Batch: 2280, Train Avg. Loss: 0.4012666030149711, Validation Avg. Loss:0.26194845407009126\nEpoch: 0, Batch: 2470, Train Avg. Loss: 0.41564175815958726, Validation Avg. Loss:0.28165721806287763\nEpoch: 0, Batch: 2660, Train Avg. Loss: 0.40663851891693314, Validation Avg. Loss:0.2694892246603966\nEpoch: 0, Batch: 2850, Train Avg. Loss: 0.39967486058410845, Validation Avg. Loss:0.3136917841553688\nEpoch: 0, Batch: 3040, Train Avg. Loss: 0.40845412015914917, Validation Avg. Loss:0.2945150711417198\nEpoch: 0, Batch: 3230, Train Avg. Loss: 0.40959033856266425, Validation Avg. Loss:0.24840955461263656\nEpoch: 0, Batch: 3420, Train Avg. Loss: 0.4107033580541611, Validation Avg. Loss:0.34561882302761077\nEpoch: 0, Batch: 3610, Train Avg. Loss: 0.3963920395625265, Validation Avg. Loss:0.2907758800148964\nEpoch: 0, Batch: 3800, Train Avg. Loss: 0.39901166009275535, Validation Avg. Loss:0.2664718791723251\nTraining complete\n"
    }
   ],
   "source": [
    "epoch = 1\n",
    "\n",
    "# storing loss over whole training\n",
    "train_loss = list()\n",
    "valid_loss = list()\n",
    "# display results 10 times per epoch\n",
    "prt_freq = 20\n",
    "num_batches = len(train_loader)\n",
    "prt_idx = num_batches // prt_freq\n",
    "\n",
    "# prepare the net for training (autograd, dropout -> on)\n",
    "model = model.cuda()\n",
    "model.train()\n",
    "\n",
    "for i in range(epoch): # looping over whole dataset\n",
    "    running_loss = 0.0\n",
    "    # training on batches of data\n",
    "    for batch_i, samples in enumerate(train_loader):\n",
    "        # get images and keypoints\n",
    "        images, keypts = samples['image'].cuda(), samples['keypoints'].cuda()\n",
    "        # forward pass\n",
    "        pred = model.forward(images)\n",
    "        # compute loss\n",
    "        loss = criterion(pred, keypts)\n",
    "        # zero the accumulate weight gradients\n",
    "        optimizer.zero_grad()\n",
    "        # backward pass (calculate current weight gradients)\n",
    "        loss.backward()\n",
    "        # update the weights\n",
    "        optimizer.step()\n",
    "\n",
    "        running_loss += loss.item() # storing loss\n",
    "\n",
    "        # Checking performance on validation data\n",
    "        # Print all the losses (frequency  is based on prt_freq value)\n",
    "        if batch_i % prt_idx == 0: \n",
    "\n",
    "            temp_loss = 0.0\n",
    "            with torch.no_grad(): # switching off autograd engine, save memory and computation\n",
    "                model.eval() # switching off dropout and batchnorm  \n",
    "                for samples in valid_loader: # looping over batches\n",
    "                    # get images and keypoints\n",
    "                    images, keypts = samples['image'].cuda(), samples['keypoints'].cuda()\n",
    "                    # forward pass\n",
    "                    pred = model.forward(images)\n",
    "                    # compute loss\n",
    "                    loss = criterion(pred, keypts)\n",
    "                    \n",
    "                    temp_loss += loss.item()\n",
    "\n",
    "            avg_train_loss = running_loss/prt_idx\n",
    "            avg_valid_loss = temp_loss/len(valid_loader)\n",
    "            print(f'Epoch: {i}, Batch: {batch_i}, Train Avg. Loss: {avg_train_loss}, Validation Avg. Loss:{avg_valid_loss}')\n",
    "            # storing avg loss for analysis later\n",
    "            train_loss.append(avg_train_loss)\n",
    "            valid_loss.append(avg_valid_loss)\n",
    "            running_loss = 0.0\n",
    "            model.train() # return to trian mode for next loop\n",
    "            \n",
    "\n",
    "\n",
    "print(\"Training complete\")"
   ]
  },
  {
   "cell_type": "code",
   "execution_count": 19,
   "metadata": {
    "tags": []
   },
   "outputs": [],
   "source": [
    "torch.save(model.state_dict(), 'models/state_dict.pt')"
   ]
  },
  {
   "cell_type": "markdown",
   "metadata": {},
   "source": [
    "## Testing on images"
   ]
  },
  {
   "cell_type": "code",
   "execution_count": 21,
   "metadata": {},
   "outputs": [],
   "source": [
    "import numpy as np"
   ]
  },
  {
   "cell_type": "code",
   "execution_count": 22,
   "metadata": {
    "tags": []
   },
   "outputs": [],
   "source": [
    "# selecting random data element\n",
    "idx = np.random.randint(len(val_data))\n",
    "sample = val_data[idx]\n",
    "image = sample['image'].unsqueeze(0)\n",
    "\n",
    "# inference\n",
    "model = model.cuda()\n",
    "model.eval()\n",
    "\n",
    "with torch.no_grad(): # not storing previous computational graph    \n",
    "    pred = model.forward(image.cuda())\n",
    "\n",
    "model = model.cpu()\n",
    "pred = pred.cpu()\n",
    "torch.cuda.empty_cache()\n",
    "\n",
    "\n"
   ]
  },
  {
   "cell_type": "code",
   "execution_count": 23,
   "metadata": {},
   "outputs": [
    {
     "output_type": "execute_result",
     "data": {
      "text/plain": "(tensor([[-0.8062, -0.3467, -0.5159, -0.4118, -0.3930, -0.2387, -0.6227, -0.3383,\n          -0.8411, -0.3883, -0.8458, -0.4551, -0.4920, -0.1408,  0.0042,  0.1215,\n           0.1013, -0.2056,  0.2303, -0.6460,  0.1058,  0.2012,  0.2224,  0.2563,\n           0.3833,  0.0432, -0.2338, -0.2426, -0.2742,  0.1031, -0.1733,  0.0869]]),\n tensor([ 0.2830,  0.8005, -0.0264,  0.0474, -0.8415,  0.0973, -0.3736, -0.0075,\n          0.3208, -0.0224,  0.4943,  0.6509, -0.5472, -0.0524, -0.4792, -0.2968,\n         -0.7057, -0.6110, -0.4491, -0.9002, -0.2000, -0.2170, -0.7132, -0.0424,\n         -0.9472, -0.5561, -0.3509, -0.5411, -0.2528, -0.0923, -0.0264, -0.1322]))"
     },
     "metadata": {},
     "execution_count": 23
    }
   ],
   "source": [
    "pred, sample['keypoints']"
   ]
  },
  {
   "cell_type": "code",
   "execution_count": 32,
   "metadata": {
    "tags": []
   },
   "outputs": [
    {
     "output_type": "error",
     "ename": "AttributeError",
     "evalue": "'memoryview' object has no attribute 'numpy'",
     "traceback": [
      "\u001b[0;31m---------------------------------------------------------------------------\u001b[0m",
      "\u001b[0;31mAttributeError\u001b[0m                            Traceback (most recent call last)",
      "\u001b[0;32m<ipython-input-32-acdeaa7d71e1>\u001b[0m in \u001b[0;36m<module>\u001b[0;34m\u001b[0m\n\u001b[1;32m      1\u001b[0m \u001b[0;32mfrom\u001b[0m \u001b[0mutils\u001b[0m\u001b[0;34m.\u001b[0m\u001b[0mLIPDataset\u001b[0m \u001b[0;32mimport\u001b[0m \u001b[0muntransform_n_display\u001b[0m\u001b[0;34m\u001b[0m\u001b[0;34m\u001b[0m\u001b[0m\n\u001b[1;32m      2\u001b[0m \u001b[0msample\u001b[0m\u001b[0;34m[\u001b[0m\u001b[0;34m'keypoints'\u001b[0m\u001b[0;34m]\u001b[0m \u001b[0;34m=\u001b[0m \u001b[0mpred\u001b[0m\u001b[0;34m\u001b[0m\u001b[0;34m\u001b[0m\u001b[0m\n\u001b[0;32m----> 3\u001b[0;31m \u001b[0muntransform_n_display\u001b[0m\u001b[0;34m(\u001b[0m\u001b[0;34m[\u001b[0m\u001b[0msample\u001b[0m\u001b[0;34m]\u001b[0m\u001b[0;34m,\u001b[0m \u001b[0;36m0\u001b[0m\u001b[0;34m,\u001b[0m \u001b[0mmean\u001b[0m\u001b[0;34m,\u001b[0m \u001b[0mstd\u001b[0m\u001b[0;34m)\u001b[0m\u001b[0;34m\u001b[0m\u001b[0;34m\u001b[0m\u001b[0m\n\u001b[0m",
      "\u001b[0;32m~/Desktop/Single-Human-Keypoint-Detection/utils/LIPDataset.py\u001b[0m in \u001b[0;36muntransform_n_display\u001b[0;34m(dataset, index, mean, std)\u001b[0m\n\u001b[1;32m     22\u001b[0m \u001b[0;34m\u001b[0m\u001b[0m\n\u001b[1;32m     23\u001b[0m     \u001b[0msample\u001b[0m\u001b[0;34m[\u001b[0m\u001b[0;34m'keypoints'\u001b[0m\u001b[0;34m]\u001b[0m \u001b[0;34m=\u001b[0m \u001b[0msample\u001b[0m\u001b[0;34m[\u001b[0m\u001b[0;34m'keypoints'\u001b[0m\u001b[0;34m]\u001b[0m\u001b[0;34m.\u001b[0m\u001b[0mdata\u001b[0m\u001b[0;34m.\u001b[0m\u001b[0mnumpy\u001b[0m\u001b[0;34m(\u001b[0m\u001b[0;34m)\u001b[0m\u001b[0;34m[\u001b[0m\u001b[0;36m0\u001b[0m\u001b[0;34m]\u001b[0m\u001b[0;34m\u001b[0m\u001b[0;34m\u001b[0m\u001b[0m\n\u001b[0;32m---> 24\u001b[0;31m     \u001b[0msample\u001b[0m\u001b[0;34m[\u001b[0m\u001b[0;34m'image'\u001b[0m\u001b[0;34m]\u001b[0m \u001b[0;34m=\u001b[0m \u001b[0msample\u001b[0m\u001b[0;34m[\u001b[0m\u001b[0;34m'image'\u001b[0m\u001b[0;34m]\u001b[0m\u001b[0;34m.\u001b[0m\u001b[0mdata\u001b[0m\u001b[0;34m.\u001b[0m\u001b[0mnumpy\u001b[0m\u001b[0;34m(\u001b[0m\u001b[0;34m)\u001b[0m \u001b[0;31m# data in image and current form of matrix\u001b[0m\u001b[0;34m\u001b[0m\u001b[0;34m\u001b[0m\u001b[0m\n\u001b[0m\u001b[1;32m     25\u001b[0m     \u001b[0msample\u001b[0m \u001b[0;34m=\u001b[0m \u001b[0munNormalize\u001b[0m\u001b[0;34m(\u001b[0m\u001b[0msample\u001b[0m\u001b[0;34m,\u001b[0m \u001b[0mmean\u001b[0m\u001b[0;34m,\u001b[0m \u001b[0mstd\u001b[0m\u001b[0;34m)\u001b[0m \u001b[0;31m# unNormalize\u001b[0m\u001b[0;34m\u001b[0m\u001b[0;34m\u001b[0m\u001b[0m\n\u001b[1;32m     26\u001b[0m     \u001b[0msample\u001b[0m\u001b[0;34m[\u001b[0m\u001b[0;34m'image'\u001b[0m\u001b[0;34m]\u001b[0m \u001b[0;34m=\u001b[0m \u001b[0msample\u001b[0m\u001b[0;34m[\u001b[0m\u001b[0;34m'image'\u001b[0m\u001b[0;34m]\u001b[0m\u001b[0;34m.\u001b[0m\u001b[0mtranspose\u001b[0m\u001b[0;34m(\u001b[0m\u001b[0;34m(\u001b[0m\u001b[0;36m1\u001b[0m\u001b[0;34m,\u001b[0m\u001b[0;36m2\u001b[0m\u001b[0;34m,\u001b[0m\u001b[0;36m0\u001b[0m\u001b[0;34m)\u001b[0m\u001b[0;34m)\u001b[0m\u001b[0;34m.\u001b[0m\u001b[0mastype\u001b[0m\u001b[0;34m(\u001b[0m\u001b[0mnp\u001b[0m\u001b[0;34m.\u001b[0m\u001b[0muint8\u001b[0m\u001b[0;34m)\u001b[0m \u001b[0;31m# change dtype to correct format for display\u001b[0m\u001b[0;34m\u001b[0m\u001b[0;34m\u001b[0m\u001b[0m\n",
      "\u001b[0;31mAttributeError\u001b[0m: 'memoryview' object has no attribute 'numpy'"
     ]
    }
   ],
   "source": [
    "from utils.LIPDataset import untransform_n_display\n",
    "sample = val_data[idx]\n",
    "sample['keypoints'] = pred\n",
    "untransform_n_display([sample], 0, mean, std)"
   ]
  },
  {
   "cell_type": "code",
   "execution_count": null,
   "metadata": {},
   "outputs": [],
   "source": []
  }
 ]
}