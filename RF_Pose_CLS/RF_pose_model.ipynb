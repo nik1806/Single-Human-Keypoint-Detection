{
 "cells": [
  {
   "cell_type": "code",
   "execution_count": 1,
   "metadata": {},
   "outputs": [],
   "source": [
    "# initial library import\n",
    "import pandas as pd\n",
    "import numpy as np"
   ]
  },
  {
   "cell_type": "code",
   "execution_count": 2,
   "metadata": {},
   "outputs": [
    {
     "data": {
      "text/html": [
       "<div>\n",
       "<style scoped>\n",
       "    .dataframe tbody tr th:only-of-type {\n",
       "        vertical-align: middle;\n",
       "    }\n",
       "\n",
       "    .dataframe tbody tr th {\n",
       "        vertical-align: top;\n",
       "    }\n",
       "\n",
       "    .dataframe thead th {\n",
       "        text-align: right;\n",
       "    }\n",
       "</style>\n",
       "<table border=\"1\" class=\"dataframe\">\n",
       "  <thead>\n",
       "    <tr style=\"text-align: right;\">\n",
       "      <th></th>\n",
       "      <th>Nose_x</th>\n",
       "      <th>Nose_y</th>\n",
       "      <th>Neck_x</th>\n",
       "      <th>Neck_y</th>\n",
       "      <th>Rshoulder_x</th>\n",
       "      <th>Rshoulder_y</th>\n",
       "      <th>Relbow_x</th>\n",
       "      <th>Relbow_y</th>\n",
       "      <th>Rwrist_x</th>\n",
       "      <th>Rwrist_y</th>\n",
       "      <th>...</th>\n",
       "      <th>frame_w</th>\n",
       "      <th>frame_y</th>\n",
       "      <th>Posture</th>\n",
       "      <th>Nose_Neck_A</th>\n",
       "      <th>Rshoulder_Neck_A</th>\n",
       "      <th>Lshoulder_Neck_A</th>\n",
       "      <th>Rshoulder_Relbow_A</th>\n",
       "      <th>Lshoulder_Lelbow_A</th>\n",
       "      <th>Relbow_Rwrist_A</th>\n",
       "      <th>Lelbow_Lwrist_A</th>\n",
       "    </tr>\n",
       "  </thead>\n",
       "  <tbody>\n",
       "    <tr>\n",
       "      <td>0</td>\n",
       "      <td>0.484251</td>\n",
       "      <td>0.432114</td>\n",
       "      <td>0.464759</td>\n",
       "      <td>0.890685</td>\n",
       "      <td>0.191389</td>\n",
       "      <td>0.869759</td>\n",
       "      <td>-0.003906</td>\n",
       "      <td>-0.005208</td>\n",
       "      <td>-0.003906</td>\n",
       "      <td>-0.005208</td>\n",
       "      <td>...</td>\n",
       "      <td>640.0</td>\n",
       "      <td>480.0</td>\n",
       "      <td>correct</td>\n",
       "      <td>92.433940</td>\n",
       "      <td>4.377248</td>\n",
       "      <td>179.985251</td>\n",
       "      <td>90.0</td>\n",
       "      <td>90.0</td>\n",
       "      <td>90.0</td>\n",
       "      <td>90.0</td>\n",
       "    </tr>\n",
       "    <tr>\n",
       "      <td>1</td>\n",
       "      <td>0.601518</td>\n",
       "      <td>0.448081</td>\n",
       "      <td>0.578051</td>\n",
       "      <td>0.942834</td>\n",
       "      <td>0.296927</td>\n",
       "      <td>0.926980</td>\n",
       "      <td>-0.003906</td>\n",
       "      <td>-0.005208</td>\n",
       "      <td>-0.003906</td>\n",
       "      <td>-0.005208</td>\n",
       "      <td>...</td>\n",
       "      <td>640.0</td>\n",
       "      <td>480.0</td>\n",
       "      <td>correct</td>\n",
       "      <td>92.715533</td>\n",
       "      <td>3.227724</td>\n",
       "      <td>179.953771</td>\n",
       "      <td>90.0</td>\n",
       "      <td>90.0</td>\n",
       "      <td>90.0</td>\n",
       "      <td>90.0</td>\n",
       "    </tr>\n",
       "    <tr>\n",
       "      <td>2</td>\n",
       "      <td>0.538944</td>\n",
       "      <td>0.432346</td>\n",
       "      <td>0.558527</td>\n",
       "      <td>0.937304</td>\n",
       "      <td>0.277261</td>\n",
       "      <td>0.926996</td>\n",
       "      <td>-0.003906</td>\n",
       "      <td>-0.005208</td>\n",
       "      <td>-0.003906</td>\n",
       "      <td>-0.005208</td>\n",
       "      <td>...</td>\n",
       "      <td>640.0</td>\n",
       "      <td>480.0</td>\n",
       "      <td>correct</td>\n",
       "      <td>87.779122</td>\n",
       "      <td>2.098752</td>\n",
       "      <td>176.926767</td>\n",
       "      <td>90.0</td>\n",
       "      <td>90.0</td>\n",
       "      <td>90.0</td>\n",
       "      <td>90.0</td>\n",
       "    </tr>\n",
       "    <tr>\n",
       "      <td>3</td>\n",
       "      <td>0.562560</td>\n",
       "      <td>0.474093</td>\n",
       "      <td>0.531152</td>\n",
       "      <td>0.875009</td>\n",
       "      <td>0.230478</td>\n",
       "      <td>0.854189</td>\n",
       "      <td>-0.003906</td>\n",
       "      <td>-0.005208</td>\n",
       "      <td>-0.003906</td>\n",
       "      <td>-0.005208</td>\n",
       "      <td>...</td>\n",
       "      <td>640.0</td>\n",
       "      <td>480.0</td>\n",
       "      <td>correct</td>\n",
       "      <td>94.479392</td>\n",
       "      <td>3.961013</td>\n",
       "      <td>179.007135</td>\n",
       "      <td>90.0</td>\n",
       "      <td>90.0</td>\n",
       "      <td>90.0</td>\n",
       "      <td>90.0</td>\n",
       "    </tr>\n",
       "    <tr>\n",
       "      <td>4</td>\n",
       "      <td>0.503938</td>\n",
       "      <td>0.489706</td>\n",
       "      <td>0.484372</td>\n",
       "      <td>0.880143</td>\n",
       "      <td>0.210912</td>\n",
       "      <td>0.854289</td>\n",
       "      <td>-0.003906</td>\n",
       "      <td>-0.005208</td>\n",
       "      <td>-0.003906</td>\n",
       "      <td>-0.005208</td>\n",
       "      <td>...</td>\n",
       "      <td>640.0</td>\n",
       "      <td>480.0</td>\n",
       "      <td>correct</td>\n",
       "      <td>92.868759</td>\n",
       "      <td>5.400991</td>\n",
       "      <td>-179.986234</td>\n",
       "      <td>90.0</td>\n",
       "      <td>90.0</td>\n",
       "      <td>90.0</td>\n",
       "      <td>90.0</td>\n",
       "    </tr>\n",
       "  </tbody>\n",
       "</table>\n",
       "<p>5 rows × 30 columns</p>\n",
       "</div>"
      ],
      "text/plain": [
       "     Nose_x    Nose_y    Neck_x    Neck_y  Rshoulder_x  Rshoulder_y  Relbow_x  \\\n",
       "0  0.484251  0.432114  0.464759  0.890685     0.191389     0.869759 -0.003906   \n",
       "1  0.601518  0.448081  0.578051  0.942834     0.296927     0.926980 -0.003906   \n",
       "2  0.538944  0.432346  0.558527  0.937304     0.277261     0.926996 -0.003906   \n",
       "3  0.562560  0.474093  0.531152  0.875009     0.230478     0.854189 -0.003906   \n",
       "4  0.503938  0.489706  0.484372  0.880143     0.210912     0.854289 -0.003906   \n",
       "\n",
       "   Relbow_y  Rwrist_x  Rwrist_y  ...  frame_w  frame_y  Posture  Nose_Neck_A  \\\n",
       "0 -0.005208 -0.003906 -0.005208  ...    640.0    480.0  correct    92.433940   \n",
       "1 -0.005208 -0.003906 -0.005208  ...    640.0    480.0  correct    92.715533   \n",
       "2 -0.005208 -0.003906 -0.005208  ...    640.0    480.0  correct    87.779122   \n",
       "3 -0.005208 -0.003906 -0.005208  ...    640.0    480.0  correct    94.479392   \n",
       "4 -0.005208 -0.003906 -0.005208  ...    640.0    480.0  correct    92.868759   \n",
       "\n",
       "   Rshoulder_Neck_A  Lshoulder_Neck_A  Rshoulder_Relbow_A  Lshoulder_Lelbow_A  \\\n",
       "0          4.377248        179.985251                90.0                90.0   \n",
       "1          3.227724        179.953771                90.0                90.0   \n",
       "2          2.098752        176.926767                90.0                90.0   \n",
       "3          3.961013        179.007135                90.0                90.0   \n",
       "4          5.400991       -179.986234                90.0                90.0   \n",
       "\n",
       "   Relbow_Rwrist_A  Lelbow_Lwrist_A  \n",
       "0             90.0             90.0  \n",
       "1             90.0             90.0  \n",
       "2             90.0             90.0  \n",
       "3             90.0             90.0  \n",
       "4             90.0             90.0  \n",
       "\n",
       "[5 rows x 30 columns]"
      ]
     },
     "execution_count": 2,
     "metadata": {},
     "output_type": "execute_result"
    }
   ],
   "source": [
    "# view the data\n",
    "df = pd.read_csv('pos_train.csv')\n",
    "df.head()"
   ]
  },
  {
   "cell_type": "code",
   "execution_count": 3,
   "metadata": {},
   "outputs": [],
   "source": [
    "# import ml library\n",
    "from sklearn.ensemble import RandomForestClassifier"
   ]
  },
  {
   "cell_type": "code",
   "execution_count": 18,
   "metadata": {},
   "outputs": [],
   "source": [
    "# instantiate model\n",
    "classifier = RandomForestClassifier(n_estimators=55, oob_score=True,\\\n",
    "                                    bootstrap=True)"
   ]
  },
  {
   "cell_type": "code",
   "execution_count": 19,
   "metadata": {},
   "outputs": [],
   "source": [
    "# joints list\n",
    "joint_angles = ['Nose_Neck_A','Rshoulder_Neck_A','Lshoulder_Neck_A','Rshoulder_Relbow_A',\\\n",
    "               'Lshoulder_Lelbow_A',]\n",
    "joint_angles += ['Relbow_Rwrist_A','Lelbow_Lwrist_A']\n",
    "joint_angles=[]"
   ]
  },
  {
   "cell_type": "code",
   "execution_count": 33,
   "metadata": {},
   "outputs": [],
   "source": [
    "# joint_angles"
   ]
  },
  {
   "cell_type": "code",
   "execution_count": 21,
   "metadata": {},
   "outputs": [],
   "source": [
    "# df['Posture'],\n",
    "# df.drop('Posture',axis=1)\n",
    "# df.shape\n",
    "x_train = df.drop(['Posture','frame_w','frame_y']+joint_angles,axis=1)\n",
    "y_train = df['Posture']"
   ]
  },
  {
   "cell_type": "code",
   "execution_count": 22,
   "metadata": {},
   "outputs": [
    {
     "data": {
      "text/plain": [
       "RandomForestClassifier(bootstrap=True, class_weight=None, criterion='gini',\n",
       "                       max_depth=None, max_features='auto', max_leaf_nodes=None,\n",
       "                       min_impurity_decrease=0.0, min_impurity_split=None,\n",
       "                       min_samples_leaf=1, min_samples_split=2,\n",
       "                       min_weight_fraction_leaf=0.0, n_estimators=55,\n",
       "                       n_jobs=None, oob_score=True, random_state=None,\n",
       "                       verbose=0, warm_start=False)"
      ]
     },
     "execution_count": 22,
     "metadata": {},
     "output_type": "execute_result"
    }
   ],
   "source": [
    "# train model\n",
    "classifier.fit(x_train, y_train)"
   ]
  },
  {
   "cell_type": "code",
   "execution_count": 23,
   "metadata": {},
   "outputs": [],
   "source": [
    "# prediction on data (of trained model)\n",
    "Y_pred = classifier.predict(x_train)"
   ]
  },
  {
   "cell_type": "code",
   "execution_count": 24,
   "metadata": {},
   "outputs": [],
   "source": [
    "Y_pred = Y_pred.reshape(len(Y_pred), 1)"
   ]
  },
  {
   "cell_type": "code",
   "execution_count": 25,
   "metadata": {},
   "outputs": [
    {
     "data": {
      "text/plain": [
       "array([['correct'],\n",
       "       ['correct'],\n",
       "       ['correct'],\n",
       "       ...,\n",
       "       ['Tilted right'],\n",
       "       ['Tilted right'],\n",
       "       ['Tilted right']], dtype=object)"
      ]
     },
     "execution_count": 25,
     "metadata": {},
     "output_type": "execute_result"
    }
   ],
   "source": [
    "Y_pred"
   ]
  },
  {
   "cell_type": "code",
   "execution_count": 26,
   "metadata": {},
   "outputs": [
    {
     "data": {
      "text/html": [
       "<div>\n",
       "<style scoped>\n",
       "    .dataframe tbody tr th:only-of-type {\n",
       "        vertical-align: middle;\n",
       "    }\n",
       "\n",
       "    .dataframe tbody tr th {\n",
       "        vertical-align: top;\n",
       "    }\n",
       "\n",
       "    .dataframe thead th {\n",
       "        text-align: right;\n",
       "    }\n",
       "</style>\n",
       "<table border=\"1\" class=\"dataframe\">\n",
       "  <thead>\n",
       "    <tr style=\"text-align: right;\">\n",
       "      <th></th>\n",
       "      <th>Nose_x</th>\n",
       "      <th>Nose_y</th>\n",
       "      <th>Neck_x</th>\n",
       "      <th>Neck_y</th>\n",
       "      <th>Rshoulder_x</th>\n",
       "      <th>Rshoulder_y</th>\n",
       "      <th>Relbow_x</th>\n",
       "      <th>Relbow_y</th>\n",
       "      <th>Rwrist_x</th>\n",
       "      <th>Rwrist_y</th>\n",
       "      <th>...</th>\n",
       "      <th>frame_w</th>\n",
       "      <th>frame_y</th>\n",
       "      <th>Posture</th>\n",
       "      <th>Nose_Neck_A</th>\n",
       "      <th>Rshoulder_Neck_A</th>\n",
       "      <th>Lshoulder_Neck_A</th>\n",
       "      <th>Rshoulder_Relbow_A</th>\n",
       "      <th>Lshoulder_Lelbow_A</th>\n",
       "      <th>Relbow_Rwrist_A</th>\n",
       "      <th>Lelbow_Lwrist_A</th>\n",
       "    </tr>\n",
       "  </thead>\n",
       "  <tbody>\n",
       "    <tr>\n",
       "      <td>0</td>\n",
       "      <td>0.593756</td>\n",
       "      <td>0.432276</td>\n",
       "      <td>0.593667</td>\n",
       "      <td>0.911386</td>\n",
       "      <td>0.316435</td>\n",
       "      <td>0.906274</td>\n",
       "      <td>-0.003906</td>\n",
       "      <td>-0.005208</td>\n",
       "      <td>-0.003906</td>\n",
       "      <td>-0.005208</td>\n",
       "      <td>...</td>\n",
       "      <td>640</td>\n",
       "      <td>480</td>\n",
       "      <td>correct</td>\n",
       "      <td>90.010735</td>\n",
       "      <td>1.056407</td>\n",
       "      <td>-177.815548</td>\n",
       "      <td>90.0</td>\n",
       "      <td>90.0</td>\n",
       "      <td>90.0</td>\n",
       "      <td>90.0</td>\n",
       "    </tr>\n",
       "    <tr>\n",
       "      <td>1</td>\n",
       "      <td>0.582019</td>\n",
       "      <td>0.416806</td>\n",
       "      <td>0.589876</td>\n",
       "      <td>0.901146</td>\n",
       "      <td>0.308640</td>\n",
       "      <td>0.890578</td>\n",
       "      <td>-0.003906</td>\n",
       "      <td>-0.005208</td>\n",
       "      <td>-0.003906</td>\n",
       "      <td>-0.005208</td>\n",
       "      <td>...</td>\n",
       "      <td>640</td>\n",
       "      <td>480</td>\n",
       "      <td>correct</td>\n",
       "      <td>89.070595</td>\n",
       "      <td>2.152096</td>\n",
       "      <td>-176.912301</td>\n",
       "      <td>90.0</td>\n",
       "      <td>90.0</td>\n",
       "      <td>90.0</td>\n",
       "      <td>90.0</td>\n",
       "    </tr>\n",
       "    <tr>\n",
       "      <td>2</td>\n",
       "      <td>0.519618</td>\n",
       "      <td>0.453126</td>\n",
       "      <td>0.550721</td>\n",
       "      <td>0.942650</td>\n",
       "      <td>0.281320</td>\n",
       "      <td>0.942605</td>\n",
       "      <td>-0.003906</td>\n",
       "      <td>-0.005208</td>\n",
       "      <td>-0.003906</td>\n",
       "      <td>-0.005208</td>\n",
       "      <td>...</td>\n",
       "      <td>640</td>\n",
       "      <td>480</td>\n",
       "      <td>correct</td>\n",
       "      <td>86.364470</td>\n",
       "      <td>0.009698</td>\n",
       "      <td>175.800236</td>\n",
       "      <td>90.0</td>\n",
       "      <td>90.0</td>\n",
       "      <td>90.0</td>\n",
       "      <td>90.0</td>\n",
       "    </tr>\n",
       "    <tr>\n",
       "      <td>3</td>\n",
       "      <td>0.574278</td>\n",
       "      <td>0.447890</td>\n",
       "      <td>0.585919</td>\n",
       "      <td>0.942587</td>\n",
       "      <td>0.300875</td>\n",
       "      <td>0.921852</td>\n",
       "      <td>-0.003906</td>\n",
       "      <td>-0.005208</td>\n",
       "      <td>-0.003906</td>\n",
       "      <td>-0.005208</td>\n",
       "      <td>...</td>\n",
       "      <td>640</td>\n",
       "      <td>480</td>\n",
       "      <td>correct</td>\n",
       "      <td>88.651994</td>\n",
       "      <td>4.160624</td>\n",
       "      <td>-179.980265</td>\n",
       "      <td>90.0</td>\n",
       "      <td>90.0</td>\n",
       "      <td>90.0</td>\n",
       "      <td>90.0</td>\n",
       "    </tr>\n",
       "    <tr>\n",
       "      <td>4</td>\n",
       "      <td>0.593668</td>\n",
       "      <td>0.432235</td>\n",
       "      <td>0.582157</td>\n",
       "      <td>0.895967</td>\n",
       "      <td>0.316464</td>\n",
       "      <td>0.901070</td>\n",
       "      <td>-0.003906</td>\n",
       "      <td>-0.005208</td>\n",
       "      <td>-0.003906</td>\n",
       "      <td>-0.005208</td>\n",
       "      <td>...</td>\n",
       "      <td>640</td>\n",
       "      <td>480</td>\n",
       "      <td>correct</td>\n",
       "      <td>91.421861</td>\n",
       "      <td>-1.100255</td>\n",
       "      <td>-176.792651</td>\n",
       "      <td>90.0</td>\n",
       "      <td>90.0</td>\n",
       "      <td>90.0</td>\n",
       "      <td>90.0</td>\n",
       "    </tr>\n",
       "  </tbody>\n",
       "</table>\n",
       "<p>5 rows × 30 columns</p>\n",
       "</div>"
      ],
      "text/plain": [
       "     Nose_x    Nose_y    Neck_x    Neck_y  Rshoulder_x  Rshoulder_y  Relbow_x  \\\n",
       "0  0.593756  0.432276  0.593667  0.911386     0.316435     0.906274 -0.003906   \n",
       "1  0.582019  0.416806  0.589876  0.901146     0.308640     0.890578 -0.003906   \n",
       "2  0.519618  0.453126  0.550721  0.942650     0.281320     0.942605 -0.003906   \n",
       "3  0.574278  0.447890  0.585919  0.942587     0.300875     0.921852 -0.003906   \n",
       "4  0.593668  0.432235  0.582157  0.895967     0.316464     0.901070 -0.003906   \n",
       "\n",
       "   Relbow_y  Rwrist_x  Rwrist_y  ...  frame_w  frame_y  Posture  Nose_Neck_A  \\\n",
       "0 -0.005208 -0.003906 -0.005208  ...      640      480  correct    90.010735   \n",
       "1 -0.005208 -0.003906 -0.005208  ...      640      480  correct    89.070595   \n",
       "2 -0.005208 -0.003906 -0.005208  ...      640      480  correct    86.364470   \n",
       "3 -0.005208 -0.003906 -0.005208  ...      640      480  correct    88.651994   \n",
       "4 -0.005208 -0.003906 -0.005208  ...      640      480  correct    91.421861   \n",
       "\n",
       "   Rshoulder_Neck_A  Lshoulder_Neck_A  Rshoulder_Relbow_A  Lshoulder_Lelbow_A  \\\n",
       "0          1.056407       -177.815548                90.0                90.0   \n",
       "1          2.152096       -176.912301                90.0                90.0   \n",
       "2          0.009698        175.800236                90.0                90.0   \n",
       "3          4.160624       -179.980265                90.0                90.0   \n",
       "4         -1.100255       -176.792651                90.0                90.0   \n",
       "\n",
       "   Relbow_Rwrist_A  Lelbow_Lwrist_A  \n",
       "0             90.0             90.0  \n",
       "1             90.0             90.0  \n",
       "2             90.0             90.0  \n",
       "3             90.0             90.0  \n",
       "4             90.0             90.0  \n",
       "\n",
       "[5 rows x 30 columns]"
      ]
     },
     "execution_count": 26,
     "metadata": {},
     "output_type": "execute_result"
    }
   ],
   "source": [
    "# import test dataset\n",
    "df_test = pd.read_csv('pos_test.csv')\n",
    "df_test.head()"
   ]
  },
  {
   "cell_type": "code",
   "execution_count": 27,
   "metadata": {},
   "outputs": [],
   "source": [
    "x_test = df_test.drop(['Posture','frame_w','frame_y']+joint_angles, axis=1)\n",
    "y_test = df_test['Posture']"
   ]
  },
  {
   "cell_type": "code",
   "execution_count": 28,
   "metadata": {},
   "outputs": [],
   "source": [
    "y_pred = classifier.predict(x_test)"
   ]
  },
  {
   "cell_type": "code",
   "execution_count": 29,
   "metadata": {},
   "outputs": [
    {
     "name": "stdout",
     "output_type": "stream",
     "text": [
      "[[ 168    0    0    0    0    0]\n",
      " [   0 1428    0    0    1    0]\n",
      " [   0    0 1543    0    0    0]\n",
      " [   0    0    0 1133    0    0]\n",
      " [   5   38    0   53 1005    0]\n",
      " [  27    0    0   45    3 1068]]\n",
      "Train accuracy 1.0\n",
      "Test accuracy 0.9736074881080251\n"
     ]
    }
   ],
   "source": [
    "from sklearn.metrics import confusion_matrix, accuracy_score\n",
    "cm = confusion_matrix(y_test, y_pred)\n",
    "print(cm)\n",
    "print(\"Train accuracy\", accuracy_score(y_train, Y_pred))\n",
    "print(\"Test accuracy\", accuracy_score(y_test, y_pred))\n",
    "# print(classifier.oob_score_)"
   ]
  },
  {
   "cell_type": "code",
   "execution_count": 30,
   "metadata": {},
   "outputs": [
    {
     "name": "stdout",
     "output_type": "stream",
     "text": [
      "               precision    recall  f1-score   support\n",
      "\n",
      "        Shrug       0.84      1.00      0.91       168\n",
      "  Tilted left       0.97      1.00      0.99      1429\n",
      " Tilted right       1.00      1.00      1.00      1543\n",
      "      correct       0.92      1.00      0.96      1133\n",
      "lean backward       1.00      0.91      0.95      1101\n",
      " lean forward       1.00      0.93      0.97      1143\n",
      "\n",
      "     accuracy                           0.97      6517\n",
      "    macro avg       0.96      0.97      0.96      6517\n",
      " weighted avg       0.98      0.97      0.97      6517\n",
      "\n"
     ]
    }
   ],
   "source": [
    "from sklearn.metrics import classification_report\n",
    "print(classification_report(y_test, y_pred))\n"
   ]
  },
  {
   "cell_type": "code",
   "execution_count": 31,
   "metadata": {},
   "outputs": [],
   "source": [
    "import pickle\n",
    "with open('pose_model.pkl','wb') as file:\n",
    "    pickle.dump(classifier, file)"
   ]
  },
  {
   "cell_type": "code",
   "execution_count": 34,
   "metadata": {},
   "outputs": [
    {
     "name": "stdout",
     "output_type": "stream",
     "text": [
      "CPU times: user 3.3 ms, sys: 0 ns, total: 3.3 ms\n",
      "Wall time: 3.2 ms\n"
     ]
    }
   ],
   "source": [
    "with open('pose_model.pkl', 'rb') as file:\n",
    "    classifier = pickle.load(file)\n",
    "    \n",
    "x = x_train.values[0].reshape(1,-1)\n",
    "    \n",
    "%time y = classifier.predict(x)"
   ]
  },
  {
   "cell_type": "code",
   "execution_count": 35,
   "metadata": {},
   "outputs": [
    {
     "data": {
      "text/plain": [
       "(1, 27)"
      ]
     },
     "execution_count": 35,
     "metadata": {},
     "output_type": "execute_result"
    }
   ],
   "source": [
    "x.shape"
   ]
  },
  {
   "cell_type": "code",
   "execution_count": 36,
   "metadata": {},
   "outputs": [
    {
     "name": "stdout",
     "output_type": "stream",
     "text": [
      "correct\n"
     ]
    }
   ],
   "source": [
    "print(y[0])"
   ]
  },
  {
   "cell_type": "code",
   "execution_count": null,
   "metadata": {},
   "outputs": [],
   "source": []
  }
 ],
 "metadata": {
  "kernelspec": {
   "display_name": "Python 3",
   "language": "python",
   "name": "python3"
  },
  "language_info": {
   "codemirror_mode": {
    "name": "ipython",
    "version": 3
   },
   "file_extension": ".py",
   "mimetype": "text/x-python",
   "name": "python",
   "nbconvert_exporter": "python",
   "pygments_lexer": "ipython3",
   "version": "3.6.9"
  }
 },
 "nbformat": 4,
 "nbformat_minor": 2
}
